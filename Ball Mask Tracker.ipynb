{
 "cells": [
  {
   "cell_type": "code",
   "execution_count": 1,
   "id": "f06da14a",
   "metadata": {},
   "outputs": [],
   "source": [
    "import cv2\n",
    "import numpy as np\n",
    "\n",
    "# Function to track a custom-colored ball in a video file\n",
    "def track_custom_color_ball(video_file):\n",
    "    # Open the video file\n",
    "    cap = cv2.VideoCapture(video_file)\n",
    "    \n",
    "    while True:\n",
    "        # Read each frame from the video\n",
    "        ret, frame = cap.read()\n",
    "        \n",
    "        # Break the loop if no frame is retrieved\n",
    "        if not ret:\n",
    "            break\n",
    "        \n",
    "        # Convert the frame from BGR to HSV color space\n",
    "        hsv = cv2.cvtColor(frame, cv2.COLOR_BGR2HSV)\n",
    "        \n",
    "        # Define the lower and upper bounds for the custom color in HSV\n",
    "        lower_color = np.array([20, 100, 100])\n",
    "        upper_color = np.array([30, 255, 255])\n",
    "        \n",
    "        # Create a mask to isolate the custom color in the frame\n",
    "        mask = cv2.inRange(hsv, lower_color, upper_color)\n",
    "        \n",
    "        # Apply the mask to the original frame\n",
    "        res = cv2.bitwise_and(frame, frame, mask=mask)\n",
    "        \n",
    "        # Display the original frame, the mask, and the result\n",
    "        cv2.imshow('frame', frame)\n",
    "        cv2.imshow('mask', mask)\n",
    "        cv2.imshow('res', res)\n",
    "        \n",
    "        # Break the loop if 'q' is pressed\n",
    "        if cv2.waitKey(25) & 0xFF == ord('q'):\n",
    "            break\n",
    "    \n",
    "    # Release the video file and close all windows\n",
    "    cap.release()\n",
    "    cv2.destroyAllWindows()\n",
    "\n",
    "# Call the function to track the ball of color #BB8A01 in the provided video file\n",
    "track_custom_color_ball('TEST.mp4')"
   ]
  },
  {
   "cell_type": "code",
   "execution_count": null,
   "id": "632395fc",
   "metadata": {},
   "outputs": [],
   "source": []
  }
 ],
 "metadata": {
  "kernelspec": {
   "display_name": "Python 3 (ipykernel)",
   "language": "python",
   "name": "python3"
  },
  "language_info": {
   "codemirror_mode": {
    "name": "ipython",
    "version": 3
   },
   "file_extension": ".py",
   "mimetype": "text/x-python",
   "name": "python",
   "nbconvert_exporter": "python",
   "pygments_lexer": "ipython3",
   "version": "3.9.13"
  }
 },
 "nbformat": 4,
 "nbformat_minor": 5
}
